{
 "cells": [
  {
   "cell_type": "markdown",
   "metadata": {},
   "source": [
    "# Introduction\n",
    "\n",
    "My approach to this data cleaning and preparation is to improve on Brayden's approach to form a more accurate model. If it turns out that this model is more accurate we can go with this one. We will discuss as a team to determine which model we want to go with. I'll start by introducing some of the libraries I'll be using, which for the most part is the same as Brayden's since I will be using the same standard methods to fill values and analyze the data."
   ]
  },
  {
   "cell_type": "markdown",
   "metadata": {},
   "source": [
    "## Imports and Data Path"
   ]
  },
  {
   "cell_type": "code",
   "execution_count": null,
   "metadata": {},
   "outputs": [],
   "source": [
    "# Use pip3 for installing these for python3\n",
    "import numpy as np\n",
    "import pandas as pd\n",
    "import sklearn\n",
    "\n",
    "data_path = \"../eug_weather/data.csv\" # This file is under /eug_weather. Change as needed\n",
    "data = pd.read_csv(data_path)"
   ]
  },
  {
   "cell_type": "markdown",
   "metadata": {},
   "source": [
    "# Sorting the Null Values\n",
    "Like Brayden, I have the Null values below, sorted by most percent null to least percent null. This is based on the number of null values divided by the number of rows. "
   ]
  },
  {
   "cell_type": "code",
   "execution_count": null,
   "metadata": {},
   "outputs": [],
   "source": [
    "# Null Analysis by Brayden but with sort\n",
    "def display_number_of_null(data):\n",
    "    data_is_null = data.isnull().sum()\n",
    "    data_is_null = data_is_null.to_frame(name=\"Amount Null\")\n",
    "    data_is_null[\"Percent Null\"] = ((data_is_null[\"Amount Null\"] / len(data)) * 100).round(2)\n",
    "    \n",
    "    # Sort by Percent Null in descending order\n",
    "    data_is_null = data_is_null.sort_values(by=\"Percent Null\", ascending=False)\n",
    "\n",
    "    print(\"\\nNumber of data points: \", np.array(data).shape[0], \"\\n\\n\")\n",
    "    print(data_is_null)\n",
    "    \n",
    "display_number_of_null(data)\n",
    "\n",
    "data['Observation_Date'] = pd.to_datetime(data['Observation_Date'])\n",
    "\n",
    "data['year'] = data['Observation_Date'].dt.year\n",
    "data['month'] = data['Observation_Date'].dt.month\n",
    "data['day'] = data['Observation_Date'].dt.day\n",
    "data = data.drop(columns='Observation_Date')\n",
    "print(data.describe())"
   ]
  },
  {
   "cell_type": "code",
   "execution_count": null,
   "metadata": {
    "vscode": {
     "languageId": "powershell"
    }
   },
   "outputs": [],
   "source": [
    "Number of data points:  9144 \n",
    "\n",
    "\n",
    "                              Amount Null  Percent Null\n",
    "Freezing_Drizzle                     9143         99.99\n",
    "Wave_Height_Specific_Period          9143         99.99\n",
    "Damaging_Winds                       9143         99.99\n",
    "Percent_Sunshine                     9141         99.97\n",
    "Tornado_Funnel_Cloud                 9137         99.92\n",
    "Significant_Wave_Height              9134         99.89\n",
    "Freezing_Rain                        9133         99.88\n",
    "Dust_BlowingDust_VolcanicAsh         9125         99.79\n",
    "Glaze_Rime                           9123         99.77\n",
    "Ice_Pellets                          9108         99.61\n",
    "Snow_IcePellets_OnGround             9088         99.39\n",
    "Drizzle                              9078         99.28\n",
    "Thunderstorms                        9025         98.70\n",
    "Blowing_Drifting_Snow                9010         98.53\n",
    "Ground_Fog                           8996         98.38\n",
    "Snow                                 8959         97.98\n",
    "Ice_Fog                              8955         97.93\n",
    "Hail                                 8663         94.74\n",
    "Snow_Depth                           8637         94.46\n",
    "Smoke_Haze                           8242         90.14\n",
    "Total_Sunshine                       8027         87.78\n",
    "Heavy_Fog_Mist                       7716         84.38\n",
    "Rain                                 6752         73.84\n",
    "Blowing_Spray                        6726         73.56\n",
    "Snowfall                             6406         70.06\n",
    "Snow_Water_Equivalent                5126         56.06\n",
    "Time_Peak_Gust                       4908         53.67\n",
    "Time_Fastest_Mile                    4799         52.48\n",
    "Fog_IceFog_HeavyFog                  4133         45.20\n",
    "Avg_Temperature                      2812         30.75\n",
    "Fastest_5Sec_Wind_Speed                89          0.97\n",
    "Fastest_5Sec_Wind_Direction            89          0.97\n",
    "Avg_Wind_Speed                          9          0.10\n",
    "Fastest_2Min_Wind_Speed                 8          0.09\n",
    "Fastest_2Min_Wind_Direction             8          0.09\n",
    "Station_Name                            0          0.00\n",
    "Observation_Date                        0          0.00\n",
    "Max_Temperature                         0          0.00\n",
    "Precipitation                           0          0.00\n",
    "Min_Temperature                         0          0.00\n",
    "Station_ID                              0          0.00\n",
    "       Avg_Wind_Speed  Time_Fastest_Mile  ...        month          day\n",
    "count     9135.000000        4345.000000  ...  9144.000000  9144.000000\n",
    "mean         6.547559        1586.291369  ...     6.515311    15.718613\n",
    "std          2.830560        1076.753596  ...     3.452524     8.802492\n",
    "min          0.220000           0.000000  ...     1.000000     1.000000\n",
    "25%          4.470000        1304.000000  ...     4.000000     8.000000\n",
    "50%          6.040000        1537.000000  ...     7.000000    16.000000\n",
    "75%          8.280000        1741.000000  ...    10.000000    23.000000\n",
    "max         20.800000        9999.000000  ...    12.000000    31.000000\n",
    "\n",
    "[8 rows x 41 columns]"
   ]
  },
  {
   "cell_type": "raw",
   "metadata": {},
   "source": []
  },
  {
   "cell_type": "markdown",
   "metadata": {},
   "source": [
    "# Analysis of the initial data\n",
    "\n",
    "Non-null data: Station_ID, Min_Temperature, Precipitation, Max_Temperature, Observation_Date, Station_Name\n",
    "\n",
    "### The following rows HAVE null data. I'll discuss the plan for each one.\n",
    "\n",
    "**Freezing_Drizzle:** Null values should just be 0 because freezing drizzle is very unlikely. \n",
    "\n",
    "**Wave_Height_Specific_Period:** This value isn't too important because this isn't a coastal city, so we will just assume 0\" for all values. We can also just drop the row.\n",
    "\n",
    "**Damaging_Winds:** Drop Row. Not significant.\n",
    "\n",
    "**Percent_Sunshine:** We need more information for this. We don't have cloud cover data, which is our main problem. Drop Row. Not significant.\n",
    "\n",
    "**Significant_Wave_Height, Dust_BlowingDust_VolcanicAsh, Glaze_Rime, Ice_Pellets, Snow_IcePellets_OnGround, Blowing_Drifting_Snow, Ground_Fog, Tornado_Funnel_Cloud, Snow, Ice_Fog, Hail, Smoke_Haze, Total_Sunshine, Heavy_Fog_Mist, Rain, Blowing_Spray, Snow_Water_Equivalent, Time_Peak_Gust, Time_Fastest_Mile, Fog_IceFog_HeavyFog, Fastest_5Sec_Wind_Speed, Fastest_5Sec_Wind_Direction:** Drop Row or fill null as 0. Not significant enough.\n",
    "\n",
    "**Drizzle:** I want to use this row to determine if there is 0.01in or 0.02in of precipitation, then we will assume 1 for drizzle. Other than this we should make this value 0.\n",
    "\n",
    "**Thunderstorms:** We theoretically have enough data to have a very rough estimate for this, but it would be very difficult to be close to accurate. We should assume 0 for the null values.\n",
    "\n",
    "### Important rows\n",
    "\n",
    "**Snowfall:** We will calculate snowfall similar to Brayden using the snow coefficient, however I want to make sure that this is only being calculated under temperatures of 32 degrees because any snowfall above that is extremely unlikely. \n",
    "\n",
    "**Snow_Depth:** I like Brayden's model, but it is missing a melting factor. I added one so that the data accounts for melting. Even in cold temperatures, snow begins to melt, and I found a rough melting factor of 20% per day by the COMET program, which will probably make our data a little bit more accurate.\n",
    "\n",
    "**Avg_Temperature:** Brayden's idea works perfect, but I'm only going to apply it to null values.\n",
    "\n",
    "**Avg_Wind_Speed, Fastest_2Min_Wind_Speed, Fastest_2Min_Wind_Direction:** These can be fixed by dropping the null rows."
   ]
  },
  {
   "cell_type": "markdown",
   "metadata": {},
   "source": [
    "# Snowfall and Snow_Depth"
   ]
  },
  {
   "cell_type": "code",
   "execution_count": null,
   "metadata": {},
   "outputs": [],
   "source": [
    "def rain_to_snow_conversion(data):\n",
    "    # Ensure only temperatures < 32°F are considered for snowfall\n",
    "    data.loc[data['Min_Temperature'] > 32, \"Snowfall\"] = 0\n",
    "\n",
    "    # Apply snowfall conversion ratios\n",
    "    conditions = [\n",
    "        (data['Min_Temperature'] >= 34) & (data['Min_Temperature'] < 45),\n",
    "        (data['Min_Temperature'] >= 27) & (data['Min_Temperature'] < 34),\n",
    "        (data['Min_Temperature'] >= 20) & (data['Min_Temperature'] < 27),\n",
    "        (data['Min_Temperature'] >= 15) & (data['Min_Temperature'] < 20),\n",
    "        (data['Min_Temperature'] >= 10) & (data['Min_Temperature'] < 15),\n",
    "        (data['Min_Temperature'] >= 0) & (data['Min_Temperature'] < 10),\n",
    "        (data['Min_Temperature'] >= -20) & (data['Min_Temperature'] < 0),\n",
    "        (data['Min_Temperature'] < -20)\n",
    "    ]\n",
    "    conversion_factors = [0.1, 10, 15, 20, 30, 40, 50, 100]\n",
    "    \n",
    "    for condition, factor in zip(conditions, conversion_factors):\n",
    "        data.loc[condition, \"Snowfall\"] = data['Precipitation'] * factor\n",
    "\n",
    "    return data\n",
    "\n",
    "def compute_snow_depth(df, col='Snowfall', window=5, melt_factor=0.2):\n",
    "    df['Snow_Depth'] = 0\n",
    "    for i in range(1, window + 1):\n",
    "        df['Snow_Depth'] += df[col].shift(i, fill_value=0) * ((1 - melt_factor) ** i)\n",
    "    \n",
    "    df['Snow_Depth'] += df[col]  # Add current day's snowfall\n",
    "    return df"
   ]
  },
  {
   "cell_type": "markdown",
   "metadata": {},
   "source": [
    "# Other Implications Stated Above"
   ]
  },
  {
   "cell_type": "code",
   "execution_count": null,
   "metadata": {},
   "outputs": [],
   "source": [
    "data_without_null_avg_wind_speed = data\n",
    "data_without_null_avg_wind_speed = data_without_null_avg_wind_speed.dropna(subset=[\"Avg_Wind_Speed\"])\n",
    "display_number_of_null(data_without_null_avg_wind_speed)"
   ]
  },
  {
   "cell_type": "code",
   "execution_count": null,
   "metadata": {},
   "outputs": [],
   "source": [
    "cleaned_data = data_without_null_avg_wind_speed.drop(columns='Percent_Sunshine')\n",
    "\n",
    "# Fill missing values before transformations\n",
    "cleaned_data['Precipitation'].fillna(0, inplace=True)\n",
    "cleaned_data['Min_Temperature'].fillna(method='ffill', inplace=True)\n",
    "cleaned_data['Max_Temperature'].fillna(method='ffill', inplace=True)\n",
    "\n",
    "# Compute Snowfall\n",
    "cleaned_data = rain_to_snow_conversion(cleaned_data)\n",
    "\n",
    "# Compute Snow Depth with a realistic melting factor\n",
    "cleaned_data = compute_snow_depth(cleaned_data, window=5, melt_factor=0.2)\n",
    "\n",
    "# Compute Avg Temperature (only for missing values)\n",
    "cleaned_data.loc[cleaned_data['Avg_Temperature'].isnull(), 'Avg_Temperature'] = \\\n",
    "    (cleaned_data['Min_Temperature'] + cleaned_data['Max_Temperature']) / 2\n",
    "\n",
    "# Drop unnecessary columns\n",
    "cleaned_data.drop(columns=['Snow_Water_Equivalent', 'Time_Fastest_Mile', 'Time_Peak_Gust', 'Total_Sunshine'], inplace=True)\n",
    "\n",
    "display_number_of_null(cleaned_data)"
   ]
  },
  {
   "cell_type": "code",
   "execution_count": null,
   "metadata": {},
   "outputs": [],
   "source": [
    "fastest_reg_model = sklearn.linear_model.LinearRegression()\n",
    "\n",
    "# pulling out the values\n",
    "rows_with_null_targets_direction = cleaned_data[cleaned_data['Fastest_2Min_Wind_Direction'].isnull()] # pulling out our missing values\n",
    "rows_with_null_targets_speed = cleaned_data[cleaned_data['Fastest_2Min_Wind_Speed'].isnull()] # pulling out our missing values\n",
    "\n",
    "# Dropping values\n",
    "cleaned_data.dropna(subset=['Fastest_2Min_Wind_Direction'], inplace=True)\n",
    "cleaned_data.dropna(subset=['Fastest_2Min_Wind_Speed'], inplace=True)\n",
    "\n",
    "# pulling out test and validation for Fastest_2Min_Wind_Direction\n",
    "training_direction, non_train_data_direction = sklearn.model_selection.train_test_split(cleaned_data, test_size=0.3, random_state=42)\n",
    "validation_direction, test_direction = sklearn.model_selection.train_test_split(non_train_data_direction, test_size=0.5, random_state=42)\n",
    "\n",
    "columns_to_scale = ['Avg_Wind_Speed', 'Snow_Depth', 'Percipitation', ]\n",
    "\n",
    "\n",
    "\n",
    "# pulling out test and validation for Fastest_2Min_Wind_Direction\n",
    "training_speed, non_train_data_speed = sklearn.model_selection.train_test_split(cleaned_data, test_size=0.3, random_state=42)\n",
    "validation_speed, test_direction = sklearn.model_selection.train_test_split(non_train_data_speed, test_size=0.5, random_state=42)\n",
    "\n",
    "print(cleaned_data)"
   ]
  },
  {
   "cell_type": "code",
   "execution_count": null,
   "metadata": {
    "vscode": {
     "languageId": "powershell"
    }
   },
   "outputs": [],
   "source": [
    "Number of data points:  9144 \n",
    "\n",
    "\n",
    "                              Amount Null  Percent Null\n",
    "Fastest_5Sec_Wind_Direction             0          0.00\n",
    "Fastest_5Sec_Wind_Speed                 0          0.00\n",
    "Smoke_Haze                              0          0.00\n",
    "Tornado_Funnel_Cloud                    0          0.00\n",
    "Damaging_Winds                          0          0.00\n",
    "Blowing_Spray                           0          0.00\n",
    "Drizzle                                 0          0.00\n",
    "Freezing_Drizzle                        0          0.00\n",
    "Rain                                    0          0.00\n",
    "Freezing_Rain                           0          0.00\n",
    "Station_ID                              0          0.00\n",
    "Snow                                    0          0.00\n",
    "Snow_IcePellets_OnGround                0          0.00\n",
    "Ground_Fog                              0          0.00\n",
    "Ice_Fog                                 0          0.00\n",
    "Wave_Height_Specific_Period             0          0.00\n",
    "Significant_Wave_Height                 0          0.00\n",
    "year                                    0          0.00\n",
    "month                                   0          0.00\n",
    "Blowing_Drifting_Snow                   0          0.00\n",
    "Dust_BlowingDust_VolcanicAsh            0          0.00\n",
    "Station_Name                            0          0.00\n",
    "Min_Temperature                         0          0.00\n",
    "Avg_Wind_Speed                          0          0.00\n",
    "Precipitation                           0          0.00\n",
    "Snowfall                                0          0.00\n",
    "Snow_Depth                              0          0.00\n",
    "Avg_Temperature                         0          0.00\n",
    "Max_Temperature                         0          0.00\n",
    "Fastest_2Min_Wind_Direction             0          0.00\n",
    "Glaze_Rime                              0          0.00\n",
    "Fastest_2Min_Wind_Speed                 0          0.00\n",
    "Fog_IceFog_HeavyFog                     0          0.00\n",
    "Heavy_Fog_Mist                          0          0.00\n",
    "Thunderstorms                           0          0.00\n",
    "Ice_Pellets                             0          0.00\n",
    "Hail                                    0          0.00\n",
    "day                                     0          0.00\n",
    "    Station_ID                      Station_Name  Avg_Wind_Speed  ...  year  month  day\n",
    "0  USW00024221  EUGENE MAHLON SWEET FIELD, OR US            8.28  ...  2000      1    1\n",
    "1  USW00024221  EUGENE MAHLON SWEET FIELD, OR US            8.28  ...  2000      1    2\n",
    "2  USW00024221  EUGENE MAHLON SWEET FIELD, OR US            9.84  ...  2000      1    3\n",
    "3  USW00024221  EUGENE MAHLON SWEET FIELD, OR US           10.07  ...  2000      1    4\n",
    "4  USW00024221  EUGENE MAHLON SWEET FIELD, OR US            4.25  ...  2000      1    5\n",
    "\n",
    "[5 rows x 43 columns]"
   ]
  }
 ],
 "metadata": {
  "language_info": {
   "name": "python"
  }
 },
 "nbformat": 4,
 "nbformat_minor": 2
}
